{
 "cells": [
  {
   "cell_type": "markdown",
   "id": "49d91218",
   "metadata": {},
   "source": [
    "# Pathlib Tutorial\n",
    "\n",
    "A tutorial showing how to use the `Path` class for common path operations. For more info, see the [documentation](https://docs.python.org/3/library/pathlib.html).\n",
    "\n",
    "## Contents\n",
    "\n",
    "1. [Imports](#imports)\n",
    "2. [Creating a `Path` Object](#create-path)\n",
    "3. [Extending Paths](#extend)\n",
    "4. [Creating and Removing Folder](#create-and-delete-folder)\n",
    "5. [Path Attributes](#attributes)\n",
    "6. [Path Methods](#methods)\n",
    "7. [Comparing Paths](#comparing)"
   ]
  },
  {
   "cell_type": "markdown",
   "id": "604e6eb0",
   "metadata": {},
   "source": [
    "----\n",
    "\n",
    "## Imports  <a id=\"imports\"></a>\n",
    "\n",
    "Only the `Path` class is needed. Since `pathlib` is part of Python's standard library, no module needs to be installed."
   ]
  },
  {
   "cell_type": "code",
   "execution_count": 186,
   "id": "6c176ce6",
   "metadata": {},
   "outputs": [],
   "source": [
    "from pathlib import Path"
   ]
  },
  {
   "cell_type": "markdown",
   "id": "f4925724",
   "metadata": {},
   "source": [
    "----\n",
    "\n",
    "## Creating a `Path` Object  <a id=\"create-path\"></a>\n",
    "\n",
    "We ceate a path object with the current working direcetory, i.e. `Path.cwd()`, as location.\n",
    "Note that `cwd()` is a static method, so we can call it on the class directly. \n",
    "\n",
    "Alternatively, we could specify a relative or absolute path as a string, such as `/home/user/Desktop` or `../Desktop`."
   ]
  },
  {
   "cell_type": "code",
   "execution_count": 187,
   "id": "6cbbb19a",
   "metadata": {},
   "outputs": [],
   "source": [
    "cwd = Path(Path.cwd())"
   ]
  },
  {
   "cell_type": "markdown",
   "id": "64841829",
   "metadata": {},
   "source": [
    "<div class=\"alert alert-block alert-info\">\n",
    "    Depending on your OS, you will get either a PosixPath or a WindowsPath object:\n",
    "</div>"
   ]
  },
  {
   "cell_type": "code",
   "execution_count": 188,
   "id": "80dcbb93",
   "metadata": {
    "scrolled": true
   },
   "outputs": [
    {
     "data": {
      "text/plain": [
       "WindowsPath('D:/Projects/Tutorials')"
      ]
     },
     "execution_count": 188,
     "metadata": {},
     "output_type": "execute_result"
    }
   ],
   "source": [
    "cwd"
   ]
  },
  {
   "cell_type": "markdown",
   "id": "071ec102",
   "metadata": {},
   "source": [
    "----\n",
    "\n",
    "## Extending Paths  <a id=\"extend\"></a>\n",
    "\n",
    "Paths can be extended using the `/` operator, which separates folders with the symbol appropriate for the current OS. So whether you are using Windows or a Unix based system, the correct separator will be used. It is also possible to concatenate several folders in a single statement:"
   ]
  },
  {
   "cell_type": "code",
   "execution_count": 189,
   "id": "28c83a5f",
   "metadata": {},
   "outputs": [
    {
     "data": {
      "text/plain": [
       "WindowsPath('D:/Projects/Tutorials/test')"
      ]
     },
     "execution_count": 189,
     "metadata": {},
     "output_type": "execute_result"
    }
   ],
   "source": [
    "test_dir = cwd / \"test\"\n",
    "test_dir"
   ]
  },
  {
   "cell_type": "code",
   "execution_count": 190,
   "id": "9bf775c1",
   "metadata": {},
   "outputs": [
    {
     "data": {
      "text/plain": [
       "WindowsPath('D:/Projects/Tutorials/A/B/C/test')"
      ]
     },
     "execution_count": 190,
     "metadata": {},
     "output_type": "execute_result"
    }
   ],
   "source": [
    "nested_test_dir = cwd / \"A\" / \"B\" / \"C\" / \"test\"\n",
    "nested_test_dir"
   ]
  },
  {
   "cell_type": "markdown",
   "id": "8cbc8b47",
   "metadata": {},
   "source": [
    "----\n",
    "\n",
    "## Creating and Removing Folders <a id=\"create-and-delete-folder\"></a>\n",
    "\n",
    "With a single command, we can create a folder at the specified path and define what to do if 1) the folder already exists and 2) the parent folders do not exist. If we want to remove a folder, it has to be empty. The `exists()` method confirms that we successfully created / deleted the folder."
   ]
  },
  {
   "cell_type": "markdown",
   "id": "7d6284f3",
   "metadata": {},
   "source": [
    "<div class=\"alert alert-block alert-info\">\n",
    "    If the exist_ok flag is set to True, no error is generated if the folder already exists.\n",
    "    If the parents flag is set to True, any parent folders that do not exist will also be created.\n",
    "    By default both options are set to False.\n",
    "</div>"
   ]
  },
  {
   "cell_type": "code",
   "execution_count": 191,
   "id": "835b06b2",
   "metadata": {},
   "outputs": [
    {
     "data": {
      "text/plain": [
       "True"
      ]
     },
     "execution_count": 191,
     "metadata": {},
     "output_type": "execute_result"
    }
   ],
   "source": [
    "new_dir = cwd / \"new\"\n",
    "new_dir.mkdir(exist_ok=True, parents=True)\n",
    "\n",
    "new_dir.exists()"
   ]
  },
  {
   "cell_type": "markdown",
   "id": "18b32e7a",
   "metadata": {},
   "source": [
    "<div class=\"alert alert-block alert-danger\">\n",
    "    Note that rmdir() will throw an exception if the folder doesn't exist.\n",
    "</div>"
   ]
  },
  {
   "cell_type": "code",
   "execution_count": 192,
   "id": "2d197187",
   "metadata": {},
   "outputs": [
    {
     "data": {
      "text/plain": [
       "False"
      ]
     },
     "execution_count": 192,
     "metadata": {},
     "output_type": "execute_result"
    }
   ],
   "source": [
    "new_dir.rmdir()\n",
    "\n",
    "new_dir.exists()"
   ]
  },
  {
   "cell_type": "markdown",
   "id": "e1de9e35",
   "metadata": {},
   "source": [
    "----\n",
    "\n",
    "## Path Attributes  <a id=\"attributes\"></a>\n",
    "\n",
    "Some basic `Path` attributes are:\n",
    "\n",
    "1. [`name`](#name)\n",
    "2. [`stem`](#stem)\n",
    "3. [`parent`](#parent)\n",
    "4. [`parents`](#parents)\n",
    "5. [`parts`](#parts)\n",
    "6. [`root`](#root)\n",
    "7. [`anchor`](#anchor)\n",
    "8. [`suffix`](#suffix)\n",
    "9. [`suffixes`](#suffixes)"
   ]
  },
  {
   "cell_type": "markdown",
   "id": "e3ec4ce1",
   "metadata": {},
   "source": [
    "### `name`\n",
    "\n",
    "The final path component (excluding drive and root):"
   ]
  },
  {
   "cell_type": "code",
   "execution_count": 193,
   "id": "ac6579bf",
   "metadata": {},
   "outputs": [
    {
     "data": {
      "text/plain": [
       "'Tutorials'"
      ]
     },
     "execution_count": 193,
     "metadata": {},
     "output_type": "execute_result"
    }
   ],
   "source": [
    "cwd.name"
   ]
  },
  {
   "cell_type": "markdown",
   "id": "36d5c0b9",
   "metadata": {},
   "source": [
    "### `stem`\n",
    "\n",
    "The final path component without suffix:"
   ]
  },
  {
   "cell_type": "code",
   "execution_count": 194,
   "id": "a49328f2",
   "metadata": {},
   "outputs": [
    {
     "data": {
      "text/plain": [
       "'Tutorials'"
      ]
     },
     "execution_count": 194,
     "metadata": {},
     "output_type": "execute_result"
    }
   ],
   "source": [
    "cwd.stem"
   ]
  },
  {
   "cell_type": "markdown",
   "id": "0dfd35a3",
   "metadata": {},
   "source": [
    "### `parent`\n",
    "\n",
    "Logical parent of path (immutable):"
   ]
  },
  {
   "cell_type": "code",
   "execution_count": 195,
   "id": "732700ef",
   "metadata": {},
   "outputs": [
    {
     "data": {
      "text/plain": [
       "WindowsPath('D:/Projects')"
      ]
     },
     "execution_count": 195,
     "metadata": {},
     "output_type": "execute_result"
    }
   ],
   "source": [
    "cwd.parent"
   ]
  },
  {
   "cell_type": "markdown",
   "id": "46caf50e",
   "metadata": {},
   "source": [
    "### `parents`\n",
    "\n",
    "List with logical ancestors of path (immutable):"
   ]
  },
  {
   "cell_type": "code",
   "execution_count": 196,
   "id": "5a58adcb",
   "metadata": {},
   "outputs": [
    {
     "name": "stdout",
     "output_type": "stream",
     "text": [
      "0   D:\\Projects\n",
      "1   D:\\\n"
     ]
    }
   ],
   "source": [
    "for idx, p in enumerate(cwd.parents):\n",
    "    print(f\"{idx:<3} {p}\")"
   ]
  },
  {
   "cell_type": "markdown",
   "id": "5bfd026b",
   "metadata": {},
   "source": [
    "### `parts` <a id=\"parts\"></a>\n",
    "\n",
    "Returns a tuple of all elements in the path:"
   ]
  },
  {
   "cell_type": "code",
   "execution_count": 197,
   "id": "237b7424",
   "metadata": {},
   "outputs": [
    {
     "data": {
      "text/plain": [
       "('D:\\\\', 'Projects', 'Tutorials')"
      ]
     },
     "execution_count": 197,
     "metadata": {},
     "output_type": "execute_result"
    }
   ],
   "source": [
    "cwd.parts"
   ]
  },
  {
   "cell_type": "markdown",
   "id": "09a519ae",
   "metadata": {},
   "source": [
    "### `root`\n",
    "\n",
    "Local or global root, if any:"
   ]
  },
  {
   "cell_type": "code",
   "execution_count": 198,
   "id": "d2888a14",
   "metadata": {},
   "outputs": [
    {
     "data": {
      "text/plain": [
       "'\\\\'"
      ]
     },
     "execution_count": 198,
     "metadata": {},
     "output_type": "execute_result"
    }
   ],
   "source": [
    "cwd.root"
   ]
  },
  {
   "cell_type": "markdown",
   "id": "4baad76a",
   "metadata": {},
   "source": [
    "### `anchor`\n",
    "\n",
    "Concatenation of drive and root:"
   ]
  },
  {
   "cell_type": "code",
   "execution_count": 199,
   "id": "4f32c6d7",
   "metadata": {},
   "outputs": [
    {
     "data": {
      "text/plain": [
       "'D:\\\\'"
      ]
     },
     "execution_count": 199,
     "metadata": {},
     "output_type": "execute_result"
    }
   ],
   "source": [
    "cwd.anchor"
   ]
  },
  {
   "cell_type": "markdown",
   "id": "233b0f1c",
   "metadata": {},
   "source": [
    "### `suffix`\n",
    "\n",
    "Returns the suffix of a file:"
   ]
  },
  {
   "cell_type": "code",
   "execution_count": 200,
   "id": "7ec54341",
   "metadata": {},
   "outputs": [
    {
     "data": {
      "text/plain": [
       "''"
      ]
     },
     "execution_count": 200,
     "metadata": {},
     "output_type": "execute_result"
    }
   ],
   "source": [
    "cwd.suffix"
   ]
  },
  {
   "cell_type": "code",
   "execution_count": 201,
   "id": "11ab5364",
   "metadata": {},
   "outputs": [
    {
     "data": {
      "text/plain": [
       "'.py'"
      ]
     },
     "execution_count": 201,
     "metadata": {},
     "output_type": "execute_result"
    }
   ],
   "source": [
    "test_file = cwd / \"test.py\"\n",
    "test_file.suffix"
   ]
  },
  {
   "cell_type": "markdown",
   "id": "75f1b7c0",
   "metadata": {},
   "source": [
    "<div class=\"alert alert-block alert-warning\">\n",
    "    In case of multiple suffixes, only the last one is returned:\n",
    "</div>"
   ]
  },
  {
   "cell_type": "code",
   "execution_count": 202,
   "id": "baba945f",
   "metadata": {},
   "outputs": [
    {
     "data": {
      "text/plain": [
       "'.gz'"
      ]
     },
     "execution_count": 202,
     "metadata": {},
     "output_type": "execute_result"
    }
   ],
   "source": [
    "test_file = cwd / \"test.tar.gz\"\n",
    "test_file.suffix"
   ]
  },
  {
   "cell_type": "markdown",
   "id": "699dcd35",
   "metadata": {},
   "source": [
    "### `suffixes`\n",
    "\n",
    "Returns a list of all suffixes of a file:"
   ]
  },
  {
   "cell_type": "code",
   "execution_count": 207,
   "id": "60627ff6",
   "metadata": {},
   "outputs": [
    {
     "data": {
      "text/plain": [
       "['.tar', '.gz']"
      ]
     },
     "execution_count": 207,
     "metadata": {},
     "output_type": "execute_result"
    }
   ],
   "source": [
    "test_file = cwd / \"test.tar.gz\"\n",
    "test_file.suffixes"
   ]
  },
  {
   "cell_type": "markdown",
   "id": "e4524e55",
   "metadata": {},
   "source": [
    "----\n",
    "\n",
    "## Path Methods  <a id=\"methods\"></a>\n",
    "\n",
    "Some basic `Path` methods are:\n",
    "\n",
    "1. [`as_posix()`](#as-posix)\n",
    "2. [`as_uri()`](#as-uri)\n",
    "3. [`iterdir()`](#iterdir)\n",
    "4. [`home()`](#home)\n",
    "5. [`exists()`](#exists)\n",
    "6. [`is_file`](#is-file)\n",
    "7. [`is_dir`](#is-dir)\n",
    "8. [`is_symlink`](#is-symlink)"
   ]
  },
  {
   "cell_type": "markdown",
   "id": "21b8f80d",
   "metadata": {},
   "source": [
    "### `as_posix()` <a id=\"as-posix\"></a>"
   ]
  },
  {
   "cell_type": "code",
   "execution_count": 203,
   "id": "3b2139c9",
   "metadata": {},
   "outputs": [
    {
     "data": {
      "text/plain": [
       "'D:/Projects/Tutorials'"
      ]
     },
     "execution_count": 203,
     "metadata": {},
     "output_type": "execute_result"
    }
   ],
   "source": [
    "cwd.as_posix()"
   ]
  },
  {
   "cell_type": "markdown",
   "id": "643bee81",
   "metadata": {},
   "source": [
    "### `as_uri()` <a id=\"as-uri\"></a>"
   ]
  },
  {
   "cell_type": "code",
   "execution_count": 204,
   "id": "96bc11d8",
   "metadata": {},
   "outputs": [
    {
     "data": {
      "text/plain": [
       "'file:///D:/Projects/Tutorials'"
      ]
     },
     "execution_count": 204,
     "metadata": {},
     "output_type": "execute_result"
    }
   ],
   "source": [
    "cwd.as_uri()"
   ]
  },
  {
   "cell_type": "markdown",
   "id": "24ee16ca",
   "metadata": {},
   "source": [
    "### `iterdir()` <a id=\"iterdir\"></a>\n",
    "\n",
    "This method provides an iterator over the children of the path. In other words, it allows us to list the contents of the folder that our path is pointing towards:"
   ]
  },
  {
   "cell_type": "code",
   "execution_count": 205,
   "id": "7945ca9b",
   "metadata": {},
   "outputs": [
    {
     "name": "stdout",
     "output_type": "stream",
     "text": [
      "0   .git\n",
      "1   .gitignore\n",
      "2   .ipynb_checkpoints\n",
      "3   LICENSE\n",
      "4   matplotlib.ipynb\n",
      "5   pathlib.ipynb\n",
      "6   README.md\n"
     ]
    }
   ],
   "source": [
    "for idx, c in enumerate(cwd.iterdir()):\n",
    "    print(f\"{idx:<3} {c.name}\")"
   ]
  },
  {
   "cell_type": "markdown",
   "id": "477d1333",
   "metadata": {},
   "source": [
    "### `home()` <a id=\"home\"></a>\n",
    "\n",
    "Returns path to home directory."
   ]
  },
  {
   "cell_type": "code",
   "execution_count": 206,
   "id": "6c126281",
   "metadata": {},
   "outputs": [
    {
     "data": {
      "text/plain": [
       "WindowsPath('C:/Users/Luca')"
      ]
     },
     "execution_count": 206,
     "metadata": {},
     "output_type": "execute_result"
    }
   ],
   "source": [
    "cwd.home()"
   ]
  },
  {
   "cell_type": "markdown",
   "id": "98bc75a9",
   "metadata": {},
   "source": [
    "### `exists()` <a id=\"exists\"></a>\n",
    "\n",
    "`True` if folder / file exists, else `False`."
   ]
  },
  {
   "cell_type": "markdown",
   "id": "f0c0c924",
   "metadata": {},
   "source": [
    "### `is_file()` <a id=\"is-file\"></a>\n",
    "\n",
    "`True` if path points to a file, else `False`."
   ]
  },
  {
   "cell_type": "markdown",
   "id": "19f0ad53",
   "metadata": {},
   "source": [
    "\n",
    "### `is_dir()` <a id=\"is-dir\"></a>\n",
    "\n",
    "`True` if path points to a folder, else `False`."
   ]
  },
  {
   "cell_type": "markdown",
   "id": "f7c73409",
   "metadata": {},
   "source": [
    "### `is_symlink()` <a id=\"is-symlink\"></a>\n",
    "\n",
    "`True` if path points to a symlink, else `False`."
   ]
  },
  {
   "cell_type": "markdown",
   "id": "5433e409",
   "metadata": {},
   "source": [
    "----\n",
    "\n",
    "## Comparing Paths  <a id=\"comparing\"></a>\n",
    "\n",
    "Paths are immutable and hashable. If they are of the same flavor, i.e. PosixPath or WindowsPath, they can be compared and ordered."
   ]
  }
 ],
 "metadata": {
  "kernelspec": {
   "display_name": "Python 3 (ipykernel)",
   "language": "python",
   "name": "python3"
  },
  "language_info": {
   "codemirror_mode": {
    "name": "ipython",
    "version": 3
   },
   "file_extension": ".py",
   "mimetype": "text/x-python",
   "name": "python",
   "nbconvert_exporter": "python",
   "pygments_lexer": "ipython3",
   "version": "3.11.3"
  }
 },
 "nbformat": 4,
 "nbformat_minor": 5
}
