{
 "cells": [
  {
   "cell_type": "markdown",
   "id": "49d91218",
   "metadata": {},
   "source": [
    "# Pathlib Tutorial\n",
    "\n",
    "A tutorial showing how to use the `Path` class for common path operations. For more info, see the [documentation](https://docs.python.org/3/library/pathlib.html).\n",
    "\n",
    "## Contents\n",
    "\n",
    "1. [Imports](#Imports)\n",
    "2. [Creating a `Path` Object](#create)\n",
    "3. [Extending Paths](#extend)\n",
    "4. [Path Attributes](#attributes)\n",
    "5. [Path Methods](#methods)\n",
    "6. [Comparing Paths](#comparing)"
   ]
  },
  {
   "cell_type": "markdown",
   "id": "604e6eb0",
   "metadata": {},
   "source": [
    "----\n",
    "\n",
    "## Imports\n",
    "\n",
    "Only the `Path` class is needed. Since `pathlib` is part of Python's standard library, no module needs to be installed."
   ]
  },
  {
   "cell_type": "code",
   "execution_count": 118,
   "id": "6c176ce6",
   "metadata": {},
   "outputs": [],
   "source": [
    "from pathlib import Path"
   ]
  },
  {
   "cell_type": "markdown",
   "id": "f4925724",
   "metadata": {},
   "source": [
    "----\n",
    "\n",
    "## Creating a `Path` Object  <a id=\"create\"></a>\n",
    "\n",
    "We ceate a path object with the current working direcetory, i.e. `Path.cwd()`, as location.\n",
    "Note that `cwd()` is a static method, so we can call it on the class directly. \n",
    "\n",
    "Alternatively, we could specify a relative or absolute path as a string, such as `/home/user/Desktop` or `../Desktop`."
   ]
  },
  {
   "cell_type": "code",
   "execution_count": 119,
   "id": "6cbbb19a",
   "metadata": {},
   "outputs": [],
   "source": [
    "cwd = Path(Path.cwd())"
   ]
  },
  {
   "cell_type": "markdown",
   "id": "09a126ee",
   "metadata": {},
   "source": [
    "Depending on your OS, you will get either a PosixPath or a WindowsPath object:"
   ]
  },
  {
   "cell_type": "code",
   "execution_count": 120,
   "id": "80dcbb93",
   "metadata": {
    "scrolled": true
   },
   "outputs": [
    {
     "data": {
      "text/plain": [
       "WindowsPath('D:/Projects/Tutorials')"
      ]
     },
     "execution_count": 120,
     "metadata": {},
     "output_type": "execute_result"
    }
   ],
   "source": [
    "cwd"
   ]
  },
  {
   "cell_type": "markdown",
   "id": "7c56e92c",
   "metadata": {},
   "source": [
    "----\n",
    "\n",
    "## Extending Paths  <a id=\"extend\"></a>\n",
    "\n",
    "Paths can be extended using the `/` operator, which separates folders with the symbol appropriate for the current OS. So whether you are using Windows or a Unix based system, the correct separator will be used. It is also possible to concatenate several folders in a single statement:"
   ]
  },
  {
   "cell_type": "code",
   "execution_count": 121,
   "id": "101fc812",
   "metadata": {},
   "outputs": [
    {
     "data": {
      "text/plain": [
       "WindowsPath('D:/Projects/Tutorials/test')"
      ]
     },
     "execution_count": 121,
     "metadata": {},
     "output_type": "execute_result"
    }
   ],
   "source": [
    "test_dir = cwd / \"test\"\n",
    "test_dir"
   ]
  },
  {
   "cell_type": "code",
   "execution_count": 122,
   "id": "c967903b",
   "metadata": {},
   "outputs": [
    {
     "data": {
      "text/plain": [
       "WindowsPath('D:/Projects/Tutorials/A/B/C/test')"
      ]
     },
     "execution_count": 122,
     "metadata": {},
     "output_type": "execute_result"
    }
   ],
   "source": [
    "nested_test_dir = cwd / \"A\" / \"B\" / \"C\" / \"test\"\n",
    "nested_test_dir"
   ]
  },
  {
   "cell_type": "markdown",
   "id": "205483ea",
   "metadata": {},
   "source": [
    "----\n",
    "\n",
    "## Path Attributes  <a id=\"attributes\"></a>\n",
    "\n",
    "Some basic `Path` attributes are:\n",
    "\n",
    "1. [`name`](#name)\n",
    "2. [`stem`](#stem)\n",
    "3. [`parent`](#parent)\n",
    "4. [`parents`](#parents)\n",
    "5. [`parts`](#parts)\n",
    "6. [`root`](#root)\n",
    "7. [`anchor`](#anchor)\n",
    "8. [`suffix`](#suffix)"
   ]
  },
  {
   "cell_type": "markdown",
   "id": "24edc0f2",
   "metadata": {},
   "source": [
    "### `name`\n",
    "\n",
    "The final path component (excluding drive and root):"
   ]
  },
  {
   "cell_type": "code",
   "execution_count": 123,
   "id": "ac6579bf",
   "metadata": {},
   "outputs": [
    {
     "data": {
      "text/plain": [
       "'Tutorials'"
      ]
     },
     "execution_count": 123,
     "metadata": {},
     "output_type": "execute_result"
    }
   ],
   "source": [
    "cwd.name"
   ]
  },
  {
   "cell_type": "markdown",
   "id": "8fd99045",
   "metadata": {},
   "source": [
    "### `stem`\n",
    "\n",
    "The final path component without suffix:"
   ]
  },
  {
   "cell_type": "code",
   "execution_count": 124,
   "id": "a49328f2",
   "metadata": {},
   "outputs": [
    {
     "data": {
      "text/plain": [
       "'Tutorials'"
      ]
     },
     "execution_count": 124,
     "metadata": {},
     "output_type": "execute_result"
    }
   ],
   "source": [
    "cwd.stem"
   ]
  },
  {
   "cell_type": "markdown",
   "id": "1f223bf3",
   "metadata": {},
   "source": [
    "### `parent`\n",
    "\n",
    "Logical parent of path (immutable):"
   ]
  },
  {
   "cell_type": "code",
   "execution_count": 125,
   "id": "732700ef",
   "metadata": {},
   "outputs": [
    {
     "data": {
      "text/plain": [
       "WindowsPath('D:/Projects')"
      ]
     },
     "execution_count": 125,
     "metadata": {},
     "output_type": "execute_result"
    }
   ],
   "source": [
    "cwd.parent"
   ]
  },
  {
   "cell_type": "markdown",
   "id": "06248347",
   "metadata": {},
   "source": [
    "### `parents`\n",
    "\n",
    "List with logical ancestors of path (immutable):"
   ]
  },
  {
   "cell_type": "code",
   "execution_count": 126,
   "id": "0c3cc694",
   "metadata": {},
   "outputs": [
    {
     "name": "stdout",
     "output_type": "stream",
     "text": [
      "0   D:\\Projects\n",
      "1   D:\\\n"
     ]
    }
   ],
   "source": [
    "for idx, p in enumerate(cwd.parents):\n",
    "    print(f\"{idx:<3} {p}\")"
   ]
  },
  {
   "cell_type": "markdown",
   "id": "32d4e210",
   "metadata": {},
   "source": [
    "### `parts` <a id=\"parts\"></a>\n",
    "\n",
    "Returns a tuple of all elements in the path:"
   ]
  },
  {
   "cell_type": "code",
   "execution_count": 127,
   "id": "365b7aea",
   "metadata": {},
   "outputs": [
    {
     "data": {
      "text/plain": [
       "('D:\\\\', 'Projects', 'Tutorials')"
      ]
     },
     "execution_count": 127,
     "metadata": {},
     "output_type": "execute_result"
    }
   ],
   "source": [
    "cwd.parts"
   ]
  },
  {
   "cell_type": "markdown",
   "id": "834f2ac6",
   "metadata": {},
   "source": [
    "### `root`\n",
    "\n",
    "Local or global root, if any:"
   ]
  },
  {
   "cell_type": "code",
   "execution_count": 128,
   "id": "d2888a14",
   "metadata": {},
   "outputs": [
    {
     "data": {
      "text/plain": [
       "'\\\\'"
      ]
     },
     "execution_count": 128,
     "metadata": {},
     "output_type": "execute_result"
    }
   ],
   "source": [
    "cwd.root"
   ]
  },
  {
   "cell_type": "markdown",
   "id": "1dda8fbf",
   "metadata": {},
   "source": [
    "### `anchor`"
   ]
  },
  {
   "cell_type": "code",
   "execution_count": 129,
   "id": "4f32c6d7",
   "metadata": {},
   "outputs": [
    {
     "data": {
      "text/plain": [
       "'D:\\\\'"
      ]
     },
     "execution_count": 129,
     "metadata": {},
     "output_type": "execute_result"
    }
   ],
   "source": [
    "cwd.anchor"
   ]
  },
  {
   "cell_type": "markdown",
   "id": "d739a0dc",
   "metadata": {},
   "source": [
    "### `suffix`\n",
    "\n",
    "Returns the suffix of a file if it exists:"
   ]
  },
  {
   "cell_type": "code",
   "execution_count": 130,
   "id": "457f68b4",
   "metadata": {},
   "outputs": [
    {
     "data": {
      "text/plain": [
       "''"
      ]
     },
     "execution_count": 130,
     "metadata": {},
     "output_type": "execute_result"
    }
   ],
   "source": [
    "cwd.suffix"
   ]
  },
  {
   "cell_type": "code",
   "execution_count": 131,
   "id": "63d2aad5",
   "metadata": {},
   "outputs": [
    {
     "data": {
      "text/plain": [
       "'.py'"
      ]
     },
     "execution_count": 131,
     "metadata": {},
     "output_type": "execute_result"
    }
   ],
   "source": [
    "test_file = cwd / \"test.py\"\n",
    "test_file.suffix"
   ]
  },
  {
   "cell_type": "markdown",
   "id": "3e16f10f",
   "metadata": {},
   "source": [
    "In case of multiple suffixes, only the last one is returned:"
   ]
  },
  {
   "cell_type": "code",
   "execution_count": 132,
   "id": "1b39b59f",
   "metadata": {},
   "outputs": [
    {
     "data": {
      "text/plain": [
       "'.gz'"
      ]
     },
     "execution_count": 132,
     "metadata": {},
     "output_type": "execute_result"
    }
   ],
   "source": [
    "test_file = cwd / \"test.tar.gz\"\n",
    "test_file.suffix"
   ]
  },
  {
   "cell_type": "markdown",
   "id": "e4cc7206",
   "metadata": {},
   "source": [
    "----\n",
    "\n",
    "## Path Methods  <a id=\"methods\"></a>\n",
    "\n",
    "Some basic `Path` methods are:\n",
    "\n",
    "1. [`as_posix()`](#as-posix)\n",
    "2. [`as_uri()`](#as-uri)\n",
    "3. [`iterdir()`](#iterdir)\n",
    "4. [`home()`](#home)\n",
    "5. [`is_file`](#is-file)\n",
    "6. [`is_dir`](#is-dir)\n",
    "7. [`is_symlink`](#is-symlink)\n",
    "8. [`is_`](#)"
   ]
  },
  {
   "cell_type": "markdown",
   "id": "92ae686a",
   "metadata": {},
   "source": [
    "## `as_posix()` <a id=\"as-posix\"></a>"
   ]
  },
  {
   "cell_type": "code",
   "execution_count": 133,
   "id": "3b2139c9",
   "metadata": {},
   "outputs": [
    {
     "data": {
      "text/plain": [
       "'D:/Projects/Tutorials'"
      ]
     },
     "execution_count": 133,
     "metadata": {},
     "output_type": "execute_result"
    }
   ],
   "source": [
    "cwd.as_posix()"
   ]
  },
  {
   "cell_type": "markdown",
   "id": "6db5e954",
   "metadata": {},
   "source": [
    "## `as_uri()` <a id=\"as-uri\"></a>"
   ]
  },
  {
   "cell_type": "code",
   "execution_count": 134,
   "id": "96bc11d8",
   "metadata": {},
   "outputs": [
    {
     "data": {
      "text/plain": [
       "'file:///D:/Projects/Tutorials'"
      ]
     },
     "execution_count": 134,
     "metadata": {},
     "output_type": "execute_result"
    }
   ],
   "source": [
    "cwd.as_uri()"
   ]
  },
  {
   "cell_type": "markdown",
   "id": "bd6cf0ff",
   "metadata": {},
   "source": [
    "## `iterdir()` <a id=\"iterdir\"></a>\n",
    "\n",
    "This method provides an iterator over the children of the path. In other words, it allows us to list the contents of the folder that our path is pointing towards:"
   ]
  },
  {
   "cell_type": "code",
   "execution_count": 135,
   "id": "7945ca9b",
   "metadata": {},
   "outputs": [
    {
     "name": "stdout",
     "output_type": "stream",
     "text": [
      "0   .ipynb_checkpoints\n",
      "1   matplotlib.ipynb\n",
      "2   pathlib.ipynb\n"
     ]
    }
   ],
   "source": [
    "for idx, c in enumerate(cwd.iterdir()):\n",
    "    print(f\"{idx:<3} {c.name}\")"
   ]
  },
  {
   "cell_type": "markdown",
   "id": "122b0263",
   "metadata": {},
   "source": [
    "## `home()` <a id=\"home\"></a>\n",
    "\n",
    "Returns path to home directory."
   ]
  },
  {
   "cell_type": "code",
   "execution_count": 136,
   "id": "2445c4ea",
   "metadata": {},
   "outputs": [
    {
     "data": {
      "text/plain": [
       "WindowsPath('C:/Users/Luca')"
      ]
     },
     "execution_count": 136,
     "metadata": {},
     "output_type": "execute_result"
    }
   ],
   "source": [
    "cwd.home()"
   ]
  },
  {
   "cell_type": "markdown",
   "id": "6a074659",
   "metadata": {},
   "source": [
    "----\n",
    "\n",
    "## Comparing Paths  <a id=\"comparing\"></a>"
   ]
  }
 ],
 "metadata": {
  "kernelspec": {
   "display_name": "Python 3 (ipykernel)",
   "language": "python",
   "name": "python3"
  },
  "language_info": {
   "codemirror_mode": {
    "name": "ipython",
    "version": 3
   },
   "file_extension": ".py",
   "mimetype": "text/x-python",
   "name": "python",
   "nbconvert_exporter": "python",
   "pygments_lexer": "ipython3",
   "version": "3.11.3"
  }
 },
 "nbformat": 4,
 "nbformat_minor": 5
}
